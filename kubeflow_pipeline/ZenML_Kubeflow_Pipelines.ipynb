{
 "cells": [
  {
   "cell_type": "markdown",
   "metadata": {
    "id": "RO_v5iIaYFi2"
   },
   "source": [
    "# ZenML: Create production-ready ML pipelines (Windows) \n",
    "\n",
    "Our goal here is to help you to get the first practical experience with our tool and give you a brief overview on some basic functionalities of ZenML. We will start local in the jupyter notebook but will transition over to a more robust environment with Kubeflow pipelines.\n",
    "\n",
    "This guide is designed to provide a practical introduction to transitioning from local setup to a more production MLOps stack. If you want more detail, our [full documentation](https://docs.zenml.io/) provides more on the concepts and how to implement them."
   ]
  },
  {
   "cell_type": "markdown",
   "metadata": {},
   "source": [
    "![zenml](assets/zenml.svg)"
   ]
  },
  {
   "cell_type": "markdown",
   "metadata": {
    "id": "VNLEesHEyjkg"
   },
   "source": [
    "## Install libraries"
   ]
  },
  {
   "cell_type": "code",
   "execution_count": 1,
   "metadata": {
    "colab": {
     "base_uri": "https://localhost:8080/"
    },
    "id": "x7l4qDgcI_5F",
    "outputId": "b413e26c-e610-4803-e39b-55906cb1f31b"
   },
   "outputs": [
    {
     "name": "stdout",
     "output_type": "stream",
     "text": [
      "Requirement already satisfied: zenml in c:\\users\\vsriniva\\anaconda3\\lib\\site-packages (0.12.0)"
     ]
    },
    {
     "name": "stderr",
     "output_type": "stream",
     "text": [
      "ERROR: pip's dependency resolver does not currently take into account all the packages that are installed. This behaviour is the source of the following dependency conflicts.\n",
      "kfp 1.8.9 requires typing-extensions<4,>=3.7.4; python_version < \"3.9\", but you have typing-extensions 4.3.0 which is incompatible.\n"
     ]
    },
    {
     "name": "stdout",
     "output_type": "stream",
     "text": [
      "\n",
      "Requirement already satisfied: pydantic<2.0.0,>=1.9.0 in c:\\users\\vsriniva\\anaconda3\\lib\\site-packages (from zenml) (1.9.2)\n",
      "Requirement already satisfied: python-dateutil<3.0.0,>=2.8.1 in c:\\users\\vsriniva\\anaconda3\\lib\\site-packages (from zenml) (2.8.1)\n",
      "Requirement already satisfied: click-params<0.4.0,>=0.3.0 in c:\\users\\vsriniva\\anaconda3\\lib\\site-packages (from zenml) (0.3.0)\n",
      "Requirement already satisfied: analytics-python<2.0.0,>=1.4.0 in c:\\users\\vsriniva\\anaconda3\\lib\\site-packages (from zenml) (1.4.0)\n",
      "Requirement already satisfied: ml-pipelines-sdk==1.8.0 in c:\\users\\vsriniva\\anaconda3\\lib\\site-packages (from zenml) (1.8.0)\n",
      "Requirement already satisfied: markupsafe==1.1.1 in c:\\users\\vsriniva\\anaconda3\\lib\\site-packages (from zenml) (1.1.1)\n",
      "Requirement already satisfied: nbconvert==6.4.4 in c:\\users\\vsriniva\\anaconda3\\lib\\site-packages (from zenml) (6.4.4)\n",
      "Requirement already satisfied: pandas<2.0.0,>=1.1.5 in c:\\users\\vsriniva\\anaconda3\\lib\\site-packages (from zenml) (1.2.4)\n",
      "Requirement already satisfied: gitpython<4.0.0,>=3.1.18 in c:\\users\\vsriniva\\anaconda3\\lib\\site-packages (from zenml) (3.1.27)\n",
      "Requirement already satisfied: pyyaml<6.0.0,>=5.4.1 in c:\\users\\vsriniva\\anaconda3\\lib\\site-packages (from zenml) (5.4.1)\n",
      "Requirement already satisfied: sqlmodel<0.1.0,>=0.0.6 in c:\\users\\vsriniva\\anaconda3\\lib\\site-packages (from zenml) (0.0.6)\n",
      "Requirement already satisfied: distro<2.0.0,>=1.6.0 in c:\\users\\vsriniva\\anaconda3\\lib\\site-packages (from zenml) (1.7.0)\n",
      "Requirement already satisfied: click<9.0.0,>=8.0.1 in c:\\users\\vsriniva\\anaconda3\\lib\\site-packages (from zenml) (8.1.3)\n",
      "Requirement already satisfied: apache-beam<3.0.0,>=2.30.0 in c:\\users\\vsriniva\\anaconda3\\lib\\site-packages (from zenml) (2.40.0)\n",
      "Requirement already satisfied: rich[jupyter]<13.0.0,>=12.0.0 in c:\\users\\vsriniva\\anaconda3\\lib\\site-packages (from zenml) (12.5.1)\n",
      "Requirement already satisfied: pyparsing<3,>=2.4.0 in c:\\users\\vsriniva\\anaconda3\\lib\\site-packages (from zenml) (2.4.7)\n",
      "Requirement already satisfied: httplib2<0.20,>=0.19.1 in c:\\users\\vsriniva\\anaconda3\\lib\\site-packages (from zenml) (0.19.1)\n",
      "Requirement already satisfied: google-api-python-client<2,>=1.8 in c:\\users\\vsriniva\\anaconda3\\lib\\site-packages (from ml-pipelines-sdk==1.8.0->zenml) (1.12.11)\n",
      "Requirement already satisfied: docker<5,>=4.1 in c:\\users\\vsriniva\\anaconda3\\lib\\site-packages (from ml-pipelines-sdk==1.8.0->zenml) (4.4.4)\n",
      "Requirement already satisfied: ml-metadata<1.9.0,>=1.8.0 in c:\\users\\vsriniva\\anaconda3\\lib\\site-packages (from ml-pipelines-sdk==1.8.0->zenml) (1.8.0)\n",
      "Requirement already satisfied: protobuf<4,>=3.13 in c:\\users\\vsriniva\\anaconda3\\lib\\site-packages (from ml-pipelines-sdk==1.8.0->zenml) (3.19.4)\n",
      "Requirement already satisfied: packaging<21,>=20 in c:\\users\\vsriniva\\anaconda3\\lib\\site-packages (from ml-pipelines-sdk==1.8.0->zenml) (20.9)\n",
      "Requirement already satisfied: portpicker<2,>=1.3.1 in c:\\users\\vsriniva\\anaconda3\\lib\\site-packages (from ml-pipelines-sdk==1.8.0->zenml) (1.5.2)\n",
      "Requirement already satisfied: google-apitools<1,>=0.5 in c:\\users\\vsriniva\\anaconda3\\lib\\site-packages (from ml-pipelines-sdk==1.8.0->zenml) (0.5.32)\n",
      "Requirement already satisfied: absl-py<2.0.0,>=0.9 in c:\\users\\vsriniva\\anaconda3\\lib\\site-packages (from ml-pipelines-sdk==1.8.0->zenml) (0.11.0)\n",
      "Requirement already satisfied: jinja2<4,>=2.7.3 in c:\\users\\vsriniva\\anaconda3\\lib\\site-packages (from ml-pipelines-sdk==1.8.0->zenml) (2.11.3)\n",
      "Requirement already satisfied: jupyterlab-pygments in c:\\users\\vsriniva\\anaconda3\\lib\\site-packages (from nbconvert==6.4.4->zenml) (0.1.2)\n",
      "Requirement already satisfied: traitlets>=5.0 in c:\\users\\vsriniva\\anaconda3\\lib\\site-packages (from nbconvert==6.4.4->zenml) (5.0.5)\n",
      "Requirement already satisfied: entrypoints>=0.2.2 in c:\\users\\vsriniva\\anaconda3\\lib\\site-packages (from nbconvert==6.4.4->zenml) (0.3)\n",
      "Requirement already satisfied: bleach in c:\\users\\vsriniva\\anaconda3\\lib\\site-packages (from nbconvert==6.4.4->zenml) (3.3.0)\n",
      "Requirement already satisfied: beautifulsoup4 in c:\\users\\vsriniva\\anaconda3\\lib\\site-packages (from nbconvert==6.4.4->zenml) (4.9.3)\n",
      "Requirement already satisfied: jupyter-core in c:\\users\\vsriniva\\anaconda3\\lib\\site-packages (from nbconvert==6.4.4->zenml) (4.7.1)\n",
      "Requirement already satisfied: nbclient<0.6.0,>=0.5.0 in c:\\users\\vsriniva\\anaconda3\\lib\\site-packages (from nbconvert==6.4.4->zenml) (0.5.3)\n",
      "Requirement already satisfied: testpath in c:\\users\\vsriniva\\anaconda3\\lib\\site-packages (from nbconvert==6.4.4->zenml) (0.4.4)\n",
      "Requirement already satisfied: pygments>=2.4.1 in c:\\users\\vsriniva\\anaconda3\\lib\\site-packages (from nbconvert==6.4.4->zenml) (2.8.1)\n",
      "Requirement already satisfied: defusedxml in c:\\users\\vsriniva\\anaconda3\\lib\\site-packages (from nbconvert==6.4.4->zenml) (0.7.1)\n",
      "Requirement already satisfied: pandocfilters>=1.4.1 in c:\\users\\vsriniva\\anaconda3\\lib\\site-packages (from nbconvert==6.4.4->zenml) (1.4.3)\n",
      "Requirement already satisfied: nbformat>=4.4 in c:\\users\\vsriniva\\anaconda3\\lib\\site-packages (from nbconvert==6.4.4->zenml) (5.1.3)\n",
      "Requirement already satisfied: mistune<2,>=0.8.1 in c:\\users\\vsriniva\\anaconda3\\lib\\site-packages (from nbconvert==6.4.4->zenml) (0.8.4)\n",
      "Requirement already satisfied: monotonic>=1.5 in c:\\users\\vsriniva\\anaconda3\\lib\\site-packages (from analytics-python<2.0.0,>=1.4.0->zenml) (1.6)\n",
      "Requirement already satisfied: backoff==1.10.0 in c:\\users\\vsriniva\\anaconda3\\lib\\site-packages (from analytics-python<2.0.0,>=1.4.0->zenml) (1.10.0)\n",
      "Requirement already satisfied: requests<3.0,>=2.7 in c:\\users\\vsriniva\\anaconda3\\lib\\site-packages (from analytics-python<2.0.0,>=1.4.0->zenml) (2.25.1)\n",
      "Requirement already satisfied: six>=1.5 in c:\\users\\vsriniva\\anaconda3\\lib\\site-packages (from analytics-python<2.0.0,>=1.4.0->zenml) (1.15.0)\n",
      "Requirement already satisfied: cloudpickle<3,>=2.1.0 in c:\\users\\vsriniva\\anaconda3\\lib\\site-packages (from apache-beam<3.0.0,>=2.30.0->zenml) (2.1.0)\n",
      "Requirement already satisfied: grpcio<2,>=1.33.1 in c:\\users\\vsriniva\\anaconda3\\lib\\site-packages (from apache-beam<3.0.0,>=2.30.0->zenml) (1.44.0)\n",
      "Requirement already satisfied: pyarrow<8.0.0,>=0.15.1 in c:\\users\\vsriniva\\anaconda3\\lib\\site-packages (from apache-beam<3.0.0,>=2.30.0->zenml) (7.0.0)\n",
      "Requirement already satisfied: hdfs<3.0.0,>=2.1.0 in c:\\users\\vsriniva\\anaconda3\\lib\\site-packages (from apache-beam<3.0.0,>=2.30.0->zenml) (2.7.0)\n",
      "Requirement already satisfied: typing-extensions>=3.7.0 in c:\\users\\vsriniva\\anaconda3\\lib\\site-packages (from apache-beam<3.0.0,>=2.30.0->zenml) (3.10.0.2)\n",
      "Requirement already satisfied: fastavro<2,>=0.23.6 in c:\\users\\vsriniva\\anaconda3\\lib\\site-packages (from apache-beam<3.0.0,>=2.30.0->zenml) (1.6.0)\n",
      "Requirement already satisfied: pytz>=2018.3 in c:\\users\\vsriniva\\anaconda3\\lib\\site-packages (from apache-beam<3.0.0,>=2.30.0->zenml) (2021.1)\n",
      "Requirement already satisfied: pymongo<4.0.0,>=3.8.0 in c:\\users\\vsriniva\\anaconda3\\lib\\site-packages (from apache-beam<3.0.0,>=2.30.0->zenml) (3.12.3)\n",
      "Requirement already satisfied: pydot<2,>=1.2.0 in c:\\users\\vsriniva\\anaconda3\\lib\\site-packages (from apache-beam<3.0.0,>=2.30.0->zenml) (1.4.2)\n",
      "Requirement already satisfied: proto-plus<2,>=1.7.1 in c:\\users\\vsriniva\\anaconda3\\lib\\site-packages (from apache-beam<3.0.0,>=2.30.0->zenml) (1.22.0)\n",
      "Requirement already satisfied: numpy<1.23.0,>=1.14.3 in c:\\users\\vsriniva\\anaconda3\\lib\\site-packages (from apache-beam<3.0.0,>=2.30.0->zenml) (1.20.1)\n",
      "Requirement already satisfied: crcmod<2.0,>=1.7 in c:\\users\\vsriniva\\anaconda3\\lib\\site-packages (from apache-beam<3.0.0,>=2.30.0->zenml) (1.7)\n",
      "Requirement already satisfied: dill<0.3.2,>=0.3.1.1 in c:\\users\\vsriniva\\anaconda3\\lib\\site-packages (from apache-beam<3.0.0,>=2.30.0->zenml) (0.3.1.1)\n",
      "Requirement already satisfied: orjson<4.0 in c:\\users\\vsriniva\\anaconda3\\lib\\site-packages (from apache-beam<3.0.0,>=2.30.0->zenml) (3.7.12)\n",
      "Requirement already satisfied: colorama in c:\\users\\vsriniva\\anaconda3\\lib\\site-packages (from click<9.0.0,>=8.0.1->zenml) (0.4.4)\n",
      "Requirement already satisfied: validators<0.19,>=0.18 in c:\\users\\vsriniva\\anaconda3\\lib\\site-packages (from click-params<0.4.0,>=0.3.0->zenml) (0.18.2)\n",
      "Requirement already satisfied: gitdb<5,>=4.0.1 in c:\\users\\vsriniva\\anaconda3\\lib\\site-packages (from gitpython<4.0.0,>=3.1.18->zenml) (4.0.9)\n",
      "Collecting typing-extensions>=3.7.0\n",
      "  Using cached typing_extensions-4.3.0-py3-none-any.whl (25 kB)\n",
      "Requirement already satisfied: commonmark<0.10.0,>=0.9.0 in c:\\users\\vsriniva\\anaconda3\\lib\\site-packages (from rich[jupyter]<13.0.0,>=12.0.0->zenml) (0.9.1)\n",
      "Requirement already satisfied: ipywidgets<8.0.0,>=7.5.1 in c:\\users\\vsriniva\\anaconda3\\lib\\site-packages (from rich[jupyter]<13.0.0,>=12.0.0->zenml) (7.6.3)\n",
      "Requirement already satisfied: SQLAlchemy<1.5.0,>=1.4.17 in c:\\users\\vsriniva\\anaconda3\\lib\\site-packages (from sqlmodel<0.1.0,>=0.0.6->zenml) (1.4.40)\n",
      "Requirement already satisfied: sqlalchemy2-stubs in c:\\users\\vsriniva\\anaconda3\\lib\\site-packages (from sqlmodel<0.1.0,>=0.0.6->zenml) (0.0.2a25)\n",
      "Requirement already satisfied: websocket-client>=0.32.0 in c:\\users\\vsriniva\\anaconda3\\lib\\site-packages (from docker<5,>=4.1->ml-pipelines-sdk==1.8.0->zenml) (1.3.3)\n",
      "Requirement already satisfied: pywin32==227 in c:\\users\\vsriniva\\anaconda3\\lib\\site-packages (from docker<5,>=4.1->ml-pipelines-sdk==1.8.0->zenml) (227)\n",
      "Requirement already satisfied: smmap<6,>=3.0.1 in c:\\users\\vsriniva\\anaconda3\\lib\\site-packages (from gitdb<5,>=4.0.1->gitpython<4.0.0,>=3.1.18->zenml) (5.0.0)\n",
      "Requirement already satisfied: google-auth-httplib2>=0.0.3 in c:\\users\\vsriniva\\anaconda3\\lib\\site-packages (from google-api-python-client<2,>=1.8->ml-pipelines-sdk==1.8.0->zenml) (0.1.0)\n",
      "Requirement already satisfied: uritemplate<4dev,>=3.0.0 in c:\\users\\vsriniva\\anaconda3\\lib\\site-packages (from google-api-python-client<2,>=1.8->ml-pipelines-sdk==1.8.0->zenml) (3.0.1)\n",
      "Requirement already satisfied: google-api-core<3dev,>=1.21.0 in c:\\users\\vsriniva\\anaconda3\\lib\\site-packages (from google-api-python-client<2,>=1.8->ml-pipelines-sdk==1.8.0->zenml) (2.8.2)\n",
      "Requirement already satisfied: google-auth<3dev,>=1.16.0 in c:\\users\\vsriniva\\anaconda3\\lib\\site-packages (from google-api-python-client<2,>=1.8->ml-pipelines-sdk==1.8.0->zenml) (1.35.0)\n",
      "Requirement already satisfied: fasteners>=0.14 in c:\\users\\vsriniva\\anaconda3\\lib\\site-packages (from google-apitools<1,>=0.5->ml-pipelines-sdk==1.8.0->zenml) (0.17.3)\n",
      "Requirement already satisfied: oauth2client>=1.4.12 in c:\\users\\vsriniva\\anaconda3\\lib\\site-packages (from google-apitools<1,>=0.5->ml-pipelines-sdk==1.8.0->zenml) (4.1.3)\n",
      "Requirement already satisfied: docopt in c:\\users\\vsriniva\\anaconda3\\lib\\site-packages (from hdfs<3.0.0,>=2.1.0->apache-beam<3.0.0,>=2.30.0->zenml) (0.6.2)\n",
      "Requirement already satisfied: ipython>=4.0.0 in c:\\users\\vsriniva\\anaconda3\\lib\\site-packages (from ipywidgets<8.0.0,>=7.5.1->rich[jupyter]<13.0.0,>=12.0.0->zenml) (7.22.0)\n",
      "Requirement already satisfied: ipykernel>=4.5.1 in c:\\users\\vsriniva\\anaconda3\\lib\\site-packages (from ipywidgets<8.0.0,>=7.5.1->rich[jupyter]<13.0.0,>=12.0.0->zenml) (5.3.4)\n",
      "Requirement already satisfied: jupyterlab-widgets>=1.0.0 in c:\\users\\vsriniva\\anaconda3\\lib\\site-packages (from ipywidgets<8.0.0,>=7.5.1->rich[jupyter]<13.0.0,>=12.0.0->zenml) (1.0.0)\n",
      "Requirement already satisfied: widgetsnbextension~=3.5.0 in c:\\users\\vsriniva\\anaconda3\\lib\\site-packages (from ipywidgets<8.0.0,>=7.5.1->rich[jupyter]<13.0.0,>=12.0.0->zenml) (3.5.1)\n",
      "Requirement already satisfied: attrs<21,>=20.3 in c:\\users\\vsriniva\\anaconda3\\lib\\site-packages (from ml-metadata<1.9.0,>=1.8.0->ml-pipelines-sdk==1.8.0->zenml) (20.3.0)\n",
      "Requirement already satisfied: jupyter-client>=6.1.5 in c:\\users\\vsriniva\\anaconda3\\lib\\site-packages (from nbclient<0.6.0,>=0.5.0->nbconvert==6.4.4->zenml) (6.1.12)\n",
      "Requirement already satisfied: async-generator in c:\\users\\vsriniva\\anaconda3\\lib\\site-packages (from nbclient<0.6.0,>=0.5.0->nbconvert==6.4.4->zenml) (1.10)\n",
      "Requirement already satisfied: nest-asyncio in c:\\users\\vsriniva\\anaconda3\\lib\\site-packages (from nbclient<0.6.0,>=0.5.0->nbconvert==6.4.4->zenml) (1.5.1)\n",
      "Requirement already satisfied: jsonschema!=2.5.0,>=2.4 in c:\\users\\vsriniva\\anaconda3\\lib\\site-packages (from nbformat>=4.4->nbconvert==6.4.4->zenml) (3.2.0)\n",
      "Requirement already satisfied: ipython-genutils in c:\\users\\vsriniva\\anaconda3\\lib\\site-packages (from nbformat>=4.4->nbconvert==6.4.4->zenml) (0.2.0)\n",
      "Requirement already satisfied: psutil in c:\\users\\vsriniva\\anaconda3\\lib\\site-packages (from portpicker<2,>=1.3.1->ml-pipelines-sdk==1.8.0->zenml) (5.8.0)\n",
      "Requirement already satisfied: urllib3<1.27,>=1.21.1 in c:\\users\\vsriniva\\anaconda3\\lib\\site-packages (from requests<3.0,>=2.7->analytics-python<2.0.0,>=1.4.0->zenml) (1.26.4)\n",
      "Requirement already satisfied: idna<3,>=2.5 in c:\\users\\vsriniva\\anaconda3\\lib\\site-packages (from requests<3.0,>=2.7->analytics-python<2.0.0,>=1.4.0->zenml) (2.10)\n",
      "Requirement already satisfied: chardet<5,>=3.0.2 in c:\\users\\vsriniva\\anaconda3\\lib\\site-packages (from requests<3.0,>=2.7->analytics-python<2.0.0,>=1.4.0->zenml) (4.0.0)\n",
      "Requirement already satisfied: certifi>=2017.4.17 in c:\\users\\vsriniva\\anaconda3\\lib\\site-packages (from requests<3.0,>=2.7->analytics-python<2.0.0,>=1.4.0->zenml) (2020.12.5)\n",
      "Requirement already satisfied: greenlet!=0.4.17 in c:\\users\\vsriniva\\anaconda3\\lib\\site-packages (from SQLAlchemy<1.5.0,>=1.4.17->sqlmodel<0.1.0,>=0.0.6->zenml) (1.0.0)\n",
      "Requirement already satisfied: decorator>=3.4.0 in c:\\users\\vsriniva\\anaconda3\\lib\\site-packages (from validators<0.19,>=0.18->click-params<0.4.0,>=0.3.0->zenml) (4.4.2)\n",
      "Requirement already satisfied: soupsieve>1.2 in c:\\users\\vsriniva\\anaconda3\\lib\\site-packages (from beautifulsoup4->nbconvert==6.4.4->zenml) (2.2.1)\n",
      "Requirement already satisfied: webencodings in c:\\users\\vsriniva\\anaconda3\\lib\\site-packages (from bleach->nbconvert==6.4.4->zenml) (0.5.1)\n",
      "Requirement already satisfied: googleapis-common-protos<2.0dev,>=1.56.2 in c:\\users\\vsriniva\\anaconda3\\lib\\site-packages (from google-api-core<3dev,>=1.21.0->google-api-python-client<2,>=1.8->ml-pipelines-sdk==1.8.0->zenml) (1.56.4)\n",
      "Requirement already satisfied: setuptools>=40.3.0 in c:\\users\\vsriniva\\anaconda3\\lib\\site-packages (from google-auth<3dev,>=1.16.0->google-api-python-client<2,>=1.8->ml-pipelines-sdk==1.8.0->zenml) (52.0.0.post20210125)\n",
      "Requirement already satisfied: pyasn1-modules>=0.2.1 in c:\\users\\vsriniva\\anaconda3\\lib\\site-packages (from google-auth<3dev,>=1.16.0->google-api-python-client<2,>=1.8->ml-pipelines-sdk==1.8.0->zenml) (0.2.8)\n",
      "Requirement already satisfied: rsa<5,>=3.1.4 in c:\\users\\vsriniva\\anaconda3\\lib\\site-packages (from google-auth<3dev,>=1.16.0->google-api-python-client<2,>=1.8->ml-pipelines-sdk==1.8.0->zenml) (4.8)\n",
      "Requirement already satisfied: cachetools<5.0,>=2.0.0 in c:\\users\\vsriniva\\anaconda3\\lib\\site-packages (from google-auth<3dev,>=1.16.0->google-api-python-client<2,>=1.8->ml-pipelines-sdk==1.8.0->zenml) (4.2.4)\n",
      "Requirement already satisfied: tornado>=4.2 in c:\\users\\vsriniva\\anaconda3\\lib\\site-packages (from ipykernel>=4.5.1->ipywidgets<8.0.0,>=7.5.1->rich[jupyter]<13.0.0,>=12.0.0->zenml) (6.1)\n",
      "Requirement already satisfied: pickleshare in c:\\users\\vsriniva\\anaconda3\\lib\\site-packages (from ipython>=4.0.0->ipywidgets<8.0.0,>=7.5.1->rich[jupyter]<13.0.0,>=12.0.0->zenml) (0.7.5)\n",
      "Requirement already satisfied: backcall in c:\\users\\vsriniva\\anaconda3\\lib\\site-packages (from ipython>=4.0.0->ipywidgets<8.0.0,>=7.5.1->rich[jupyter]<13.0.0,>=12.0.0->zenml) (0.2.0)\n",
      "Requirement already satisfied: jedi>=0.16 in c:\\users\\vsriniva\\anaconda3\\lib\\site-packages (from ipython>=4.0.0->ipywidgets<8.0.0,>=7.5.1->rich[jupyter]<13.0.0,>=12.0.0->zenml) (0.17.2)\n",
      "Requirement already satisfied: prompt-toolkit!=3.0.0,!=3.0.1,<3.1.0,>=2.0.0 in c:\\users\\vsriniva\\anaconda3\\lib\\site-packages (from ipython>=4.0.0->ipywidgets<8.0.0,>=7.5.1->rich[jupyter]<13.0.0,>=12.0.0->zenml) (3.0.17)\n",
      "Requirement already satisfied: pyrsistent>=0.14.0 in c:\\users\\vsriniva\\anaconda3\\lib\\site-packages (from jsonschema!=2.5.0,>=2.4->nbformat>=4.4->nbconvert==6.4.4->zenml) (0.17.3)\n",
      "Requirement already satisfied: pyzmq>=13 in c:\\users\\vsriniva\\anaconda3\\lib\\site-packages (from jupyter-client>=6.1.5->nbclient<0.6.0,>=0.5.0->nbconvert==6.4.4->zenml) (20.0.0)\n",
      "Requirement already satisfied: pyasn1>=0.1.7 in c:\\users\\vsriniva\\anaconda3\\lib\\site-packages (from oauth2client>=1.4.12->google-apitools<1,>=0.5->ml-pipelines-sdk==1.8.0->zenml) (0.4.8)\n",
      "Requirement already satisfied: notebook>=4.4.1 in c:\\users\\vsriniva\\anaconda3\\lib\\site-packages (from widgetsnbextension~=3.5.0->ipywidgets<8.0.0,>=7.5.1->rich[jupyter]<13.0.0,>=12.0.0->zenml) (6.3.0)\n",
      "Requirement already satisfied: parso<0.8.0,>=0.7.0 in c:\\users\\vsriniva\\anaconda3\\lib\\site-packages (from jedi>=0.16->ipython>=4.0.0->ipywidgets<8.0.0,>=7.5.1->rich[jupyter]<13.0.0,>=12.0.0->zenml) (0.7.0)\n",
      "Requirement already satisfied: argon2-cffi in c:\\users\\vsriniva\\anaconda3\\lib\\site-packages (from notebook>=4.4.1->widgetsnbextension~=3.5.0->ipywidgets<8.0.0,>=7.5.1->rich[jupyter]<13.0.0,>=12.0.0->zenml) (20.1.0)\n",
      "Requirement already satisfied: Send2Trash>=1.5.0 in c:\\users\\vsriniva\\anaconda3\\lib\\site-packages (from notebook>=4.4.1->widgetsnbextension~=3.5.0->ipywidgets<8.0.0,>=7.5.1->rich[jupyter]<13.0.0,>=12.0.0->zenml) (1.5.0)\n",
      "Requirement already satisfied: prometheus-client in c:\\users\\vsriniva\\anaconda3\\lib\\site-packages (from notebook>=4.4.1->widgetsnbextension~=3.5.0->ipywidgets<8.0.0,>=7.5.1->rich[jupyter]<13.0.0,>=12.0.0->zenml) (0.10.1)\n",
      "Requirement already satisfied: terminado>=0.8.3 in c:\\users\\vsriniva\\anaconda3\\lib\\site-packages (from notebook>=4.4.1->widgetsnbextension~=3.5.0->ipywidgets<8.0.0,>=7.5.1->rich[jupyter]<13.0.0,>=12.0.0->zenml) (0.9.4)\n",
      "Requirement already satisfied: wcwidth in c:\\users\\vsriniva\\anaconda3\\lib\\site-packages (from prompt-toolkit!=3.0.0,!=3.0.1,<3.1.0,>=2.0.0->ipython>=4.0.0->ipywidgets<8.0.0,>=7.5.1->rich[jupyter]<13.0.0,>=12.0.0->zenml) (0.2.5)\n",
      "Requirement already satisfied: pywinpty>=0.5 in c:\\users\\vsriniva\\anaconda3\\lib\\site-packages (from terminado>=0.8.3->notebook>=4.4.1->widgetsnbextension~=3.5.0->ipywidgets<8.0.0,>=7.5.1->rich[jupyter]<13.0.0,>=12.0.0->zenml) (0.5.7)\n",
      "Requirement already satisfied: cffi>=1.0.0 in c:\\users\\vsriniva\\anaconda3\\lib\\site-packages (from argon2-cffi->notebook>=4.4.1->widgetsnbextension~=3.5.0->ipywidgets<8.0.0,>=7.5.1->rich[jupyter]<13.0.0,>=12.0.0->zenml) (1.14.5)\n",
      "Requirement already satisfied: pycparser in c:\\users\\vsriniva\\anaconda3\\lib\\site-packages (from cffi>=1.0.0->argon2-cffi->notebook>=4.4.1->widgetsnbextension~=3.5.0->ipywidgets<8.0.0,>=7.5.1->rich[jupyter]<13.0.0,>=12.0.0->zenml) (2.20)\n",
      "Installing collected packages: typing-extensions\n",
      "  Attempting uninstall: typing-extensions\n",
      "    Found existing installation: typing-extensions 3.10.0.2\n",
      "    Uninstalling typing-extensions-3.10.0.2:\n",
      "      Successfully uninstalled typing-extensions-3.10.0.2\n",
      "Successfully installed typing-extensions-4.3.0\n",
      "\n",
      "[notice] A new release of pip available: 22.1.2 -> 22.2.2\n",
      "[notice] To update, run: python.exe -m pip install --upgrade pip\n"
     ]
    }
   ],
   "source": [
    "# Install the ZenML CLI tool and Tensorflow\n",
    "!pip install zenml"
   ]
  },
  {
   "cell_type": "code",
   "execution_count": 2,
   "metadata": {},
   "outputs": [],
   "source": [
    "!zenml integration install kubeflow -y"
   ]
  },
  {
   "cell_type": "code",
   "execution_count": 3,
   "metadata": {},
   "outputs": [],
   "source": [
    "!zenml integration install tensorflow -y"
   ]
  },
  {
   "cell_type": "markdown",
   "metadata": {
    "id": "T_RCPyaNzPy-"
   },
   "source": [
    "Once the installation is completed, you can go ahead and create your first ZenML repository for your project. As ZenML repositories are built on top of Git repositories, you can create yours in a desired empty directory through:"
   ]
  },
  {
   "cell_type": "code",
   "execution_count": 4,
   "metadata": {
    "colab": {
     "base_uri": "https://localhost:8080/"
    },
    "id": "-lcfE3l2zTU-",
    "outputId": "fea5770a-d7de-4169-893c-eae2aa97f517"
   },
   "outputs": [
    {
     "name": "stdout",
     "output_type": "stream",
     "text": [
      "ZenML repository initialized at C:\\Users\\vsriniva\\Desktop\\zenml.\n",
      "The local active profile was initialized to 'default' and the local active \n",
      "stack to 'default'. This local configuration will only take effect when you're \n",
      "running ZenML from the initialized repository root, or from a subdirectory. For\n",
      "more information on profile and stack configuration, please visit \n",
      "https://docs.zenml.io/developer-guide/stacks-profiles-repositories.\n"
     ]
    }
   ],
   "source": [
    "# Initialize a ZenML repository\n",
    "!zenml init"
   ]
  },
  {
   "cell_type": "markdown",
   "metadata": {},
   "source": [
    "This has created a local directory with a bunch of configuration for your MLOPS stack."
   ]
  },
  {
   "cell_type": "markdown",
   "metadata": {},
   "source": [
    "# Start with the local stack"
   ]
  },
  {
   "cell_type": "markdown",
   "metadata": {
    "id": "yQE8PSXDzL-_"
   },
   "source": [
    "The above commands have automatically created a local MLOps stack for you and set it to active. Let's make sure:"
   ]
  },
  {
   "cell_type": "code",
   "execution_count": 6,
   "metadata": {},
   "outputs": [
    {
     "name": "stdout",
     "output_type": "stream",
     "text": [
      "Running with active profile: 'default' (local)\n",
      "The active stack is: 'default'\n"
     ]
    }
   ],
   "source": [
    "!zenml stack get\n",
    "#!zenml stack set local_stack"
   ]
  },
  {
   "cell_type": "markdown",
   "metadata": {},
   "source": [
    "![localstack.png](assets/localstack.png)"
   ]
  },
  {
   "cell_type": "markdown",
   "metadata": {},
   "source": [
    "The default stack is the local stack.\n",
    "Orchestrator: Python Kernel\n",
    "Artifact Store: Stores all the artifacts that flow between steps.\n",
    "Metadata Store: Keeps track of all the artifacts as well as all the parameters that flow through your pipeline."
   ]
  },
  {
   "cell_type": "markdown",
   "metadata": {
    "id": "izjbDO-6yrFM"
   },
   "source": [
    "## Create your first pipeline with the local_stack"
   ]
  },
  {
   "cell_type": "markdown",
   "metadata": {
    "id": "2gtj5QKCnSj0"
   },
   "source": [
    "Let's first do the imports"
   ]
  },
  {
   "cell_type": "code",
   "execution_count": 7,
   "metadata": {
    "id": "LvFo9epOUE7G"
   },
   "outputs": [],
   "source": [
    "import logging\n",
    "import os\n",
    "\n",
    "import numpy as np\n",
    "import tensorflow as tf\n",
    "\n",
    "from zenml.integrations.constants import TENSORFLOW\n",
    "from zenml.pipelines import pipeline\n",
    "from zenml.steps import BaseStepConfig, Output, StepContext, step"
   ]
  },
  {
   "cell_type": "markdown",
   "metadata": {
    "id": "6UwqjAR2yvH_"
   },
   "source": [
    "## Define ZenML Steps"
   ]
  },
  {
   "cell_type": "markdown",
   "metadata": {
    "id": "5wHcI2FinX2O"
   },
   "source": [
    "In the code that follows, you can see that we are defining the various steps of our pipeline. Each step is decorated with `@step`, the main abstraction that is currently available for creating pipeline steps."
   ]
  },
  {
   "cell_type": "markdown",
   "metadata": {
    "id": "QZI9i2FJ0k3H"
   },
   "source": [
    "The first step is an `importer` step that downloads a sample of the MNIST dataset."
   ]
  },
  {
   "cell_type": "code",
   "execution_count": 8,
   "metadata": {
    "id": "1VT_PAW10jbp"
   },
   "outputs": [],
   "source": [
    "@step\n",
    "def importer() -> Output(\n",
    "    X_train=np.ndarray,\n",
    "    X_test=np.ndarray,\n",
    "    y_train=np.ndarray,\n",
    "    y_test=np.ndarray,\n",
    "):\n",
    "    \"\"\"Download the MNIST data store it as an artifact\"\"\"\n",
    "    (X_train, y_train), (\n",
    "        X_test,\n",
    "        y_test,\n",
    "    ) = tf.keras.datasets.mnist.load_data()\n",
    "    return X_train, X_test, y_train, y_test"
   ]
  },
  {
   "cell_type": "markdown",
   "metadata": {
    "id": "aU9ygH9s1BgR"
   },
   "source": [
    "Then we add a `normalizer` step that takes as input the test set and the trained model and evaluates some final metrics."
   ]
  },
  {
   "cell_type": "code",
   "execution_count": 9,
   "metadata": {},
   "outputs": [],
   "source": [
    "@step\n",
    "def normalizer(\n",
    "    X_train: np.ndarray, X_test: np.ndarray\n",
    ") -> Output(X_train_normed=np.ndarray, X_test_normed=np.ndarray):\n",
    "    \"\"\"Normalize digits dataset with mean and standard deviation.\"\"\"\n",
    "    X_train_normed = (X_train - np.mean(X_train)) / np.std(X_train)\n",
    "    X_test_normed = (X_test - np.mean(X_test)) / np.std(X_test)\n",
    "    return X_train_normed, X_test_normed"
   ]
  },
  {
   "cell_type": "markdown",
   "metadata": {
    "id": "ma53mucU0yF3"
   },
   "source": [
    "We then add a `trainer` step, that takes the normalized data and trains a Keras model on the data. The step has an associated `TrainerConfig` step configuration class. Also note how we use the `StepContext` to extract the Artifact Store path alongside the output model Artifact where TensorBoard logs are to be stored."
   ]
  },
  {
   "cell_type": "code",
   "execution_count": 10,
   "metadata": {
    "id": "ZEw7Cbqx0wXj"
   },
   "outputs": [],
   "source": [
    "class TrainerConfig(BaseStepConfig):\n",
    "    \"\"\"Trainer params\"\"\"\n",
    "\n",
    "    epochs: int = 1\n",
    "    lr: float = 0.001\n",
    "\n",
    "@step\n",
    "def trainer(\n",
    "    X_train: np.ndarray,\n",
    "    y_train: np.ndarray,\n",
    "    context: StepContext,\n",
    "    config: TrainerConfig,\n",
    ") -> tf.keras.Model:\n",
    "    \"\"\"Train a neural net from scratch to recognize MNIST digits return our\n",
    "    model or the learner\"\"\"\n",
    "    model = tf.keras.Sequential(\n",
    "        [\n",
    "            tf.keras.layers.Flatten(input_shape=(28, 28)),\n",
    "            tf.keras.layers.Dense(10, activation=\"relu\"),\n",
    "            tf.keras.layers.Dense(10),\n",
    "        ]\n",
    "    )\n",
    "\n",
    "    log_dir = os.path.join(context.get_output_artifact_uri(), \"logs\")\n",
    "    tensorboard_callback = tf.keras.callbacks.TensorBoard(\n",
    "        log_dir=log_dir, histogram_freq=1\n",
    "    )\n",
    "\n",
    "    model.compile(\n",
    "        optimizer=tf.keras.optimizers.Adam(config.lr),\n",
    "        loss=tf.keras.losses.SparseCategoricalCrossentropy(from_logits=True),\n",
    "        metrics=[\"accuracy\"],\n",
    "    )\n",
    "\n",
    "    model.fit(\n",
    "        X_train,\n",
    "        y_train,\n",
    "        epochs=config.epochs,\n",
    "        callbacks=[tensorboard_callback],\n",
    "    )\n",
    "\n",
    "    return model"
   ]
  },
  {
   "cell_type": "markdown",
   "metadata": {},
   "source": [
    "Finally, we had an `evaluator` to see how we did on the dataset!"
   ]
  },
  {
   "cell_type": "code",
   "execution_count": 11,
   "metadata": {},
   "outputs": [],
   "source": [
    "@step\n",
    "def evaluator(\n",
    "    X_test: np.ndarray,\n",
    "    y_test: np.ndarray,\n",
    "    model: tf.keras.Model,\n",
    ") -> float:\n",
    "    \"\"\"Calculate the accuracy on the test set\"\"\"\n",
    "\n",
    "    _, test_acc = model.evaluate(X_test, y_test, verbose=2)\n",
    "    logging.info(f\"Test accuracy: {test_acc}\")\n",
    "    return test_acc"
   ]
  },
  {
   "cell_type": "markdown",
   "metadata": {
    "id": "u_iZTIz8y7Cp"
   },
   "source": [
    "## Define ZenML Pipeline"
   ]
  },
  {
   "cell_type": "markdown",
   "metadata": {
    "id": "oKbU3WlbnoiA"
   },
   "source": [
    "A pipeline is defined with the `@pipeline` decorator. This defines the various steps of the pipeline and specifies the dependencies between the steps, thereby determining the order in which they will be run."
   ]
  },
  {
   "cell_type": "code",
   "execution_count": 12,
   "metadata": {
    "id": "rm8SIrLFWenn"
   },
   "outputs": [],
   "source": [
    "@pipeline\n",
    "def mnist_pipeline(\n",
    "    importer,\n",
    "    normalizer,\n",
    "    trainer,\n",
    "    evaluator,\n",
    "):\n",
    "    # Link all the steps together\n",
    "    X_train, X_test, y_train, y_test = importer()\n",
    "    X_trained_normed, X_test_normed = normalizer(X_train=X_train, X_test=X_test)\n",
    "    model = trainer(X_train=X_trained_normed, y_train=y_train)\n",
    "    evaluator(X_test=X_test_normed, y_test=y_test, model=model)"
   ]
  },
  {
   "cell_type": "markdown",
   "metadata": {
    "id": "b-JtDHu_z1IX"
   },
   "source": [
    "## Run the pipeline"
   ]
  },
  {
   "cell_type": "markdown",
   "metadata": {
    "id": "NrJA5OSgnydC"
   },
   "source": [
    "Running the pipeline is as simple as calling the `run()` method on an instance of the defined pipeline."
   ]
  },
  {
   "cell_type": "code",
   "execution_count": 13,
   "metadata": {
    "colab": {
     "base_uri": "https://localhost:8080/"
    },
    "id": "dRzZA406UVVz",
    "outputId": "f61e4408-4001-4cc7-ed7d-8472b1c4089f",
    "scrolled": false
   },
   "outputs": [
    {
     "name": "stdout",
     "output_type": "stream",
     "text": [
      "\u001b[1;35mCreating run for pipeline: \u001b[0m\u001b[33mmnist_pipeline\u001b[1;35m\u001b[0m\n",
      "\u001b[1;35mCache enabled for pipeline \u001b[0m\u001b[33mmnist_pipeline\u001b[1;35m\u001b[0m\n",
      "\u001b[1;35mUsing stack \u001b[0m\u001b[33mdefault\u001b[1;35m to run pipeline \u001b[0m\u001b[33mmnist_pipeline\u001b[1;35m...\u001b[0m\n",
      "\u001b[1;35mStep \u001b[0m\u001b[33mimporter\u001b[1;35m has started.\u001b[0m\n",
      "\u001b[1;35mUsing cached version of \u001b[0m\u001b[33mimporter\u001b[1;35m.\u001b[0m\n",
      "\u001b[1;35mStep \u001b[0m\u001b[33mimporter\u001b[1;35m has finished in 0.086s.\u001b[0m\n",
      "\u001b[1;35mStep \u001b[0m\u001b[33mnormalizer\u001b[1;35m has started.\u001b[0m\n",
      "\u001b[1;35mUsing cached version of \u001b[0m\u001b[33mnormalizer\u001b[1;35m.\u001b[0m\n",
      "\u001b[1;35mStep \u001b[0m\u001b[33mnormalizer\u001b[1;35m has finished in 0.041s.\u001b[0m\n",
      "\u001b[1;35mStep \u001b[0m\u001b[33mtrainer\u001b[1;35m has started.\u001b[0m\n",
      "1875/1875 [==============================] - 2s 974us/step - loss: 0.5177 - accuracy: 0.8467\n",
      "\u001b[1;35mStep \u001b[0m\u001b[33mtrainer\u001b[1;35m has finished in 9.539s.\u001b[0m\n",
      "\u001b[1;35mStep \u001b[0m\u001b[33mevaluator\u001b[1;35m has started.\u001b[0m\n",
      "313/313 - 0s - loss: 0.3277 - accuracy: 0.9021 - 285ms/epoch - 911us/step\n"
     ]
    },
    {
     "name": "stderr",
     "output_type": "stream",
     "text": [
      "INFO:root:Test accuracy: 0.9021000266075134\n"
     ]
    },
    {
     "name": "stdout",
     "output_type": "stream",
     "text": [
      "\u001b[1;35mStep \u001b[0m\u001b[33mevaluator\u001b[1;35m has finished in 0.768s.\u001b[0m\n",
      "\u001b[1;35mPipeline run \u001b[0m\u001b[33mmnist_pipeline-30_Aug_22-15_10_51_711183\u001b[1;35m has finished in 12.608s.\u001b[0m\n"
     ]
    }
   ],
   "source": [
    "# Initialize the pipeline\n",
    "first_pipeline = mnist_pipeline(\n",
    "    importer=importer(),\n",
    "    normalizer=normalizer(),\n",
    "    trainer=trainer(),\n",
    "    evaluator=evaluator(),\n",
    ")\n",
    "\n",
    "first_pipeline.run()"
   ]
  },
  {
   "cell_type": "markdown",
   "metadata": {
    "id": "b-JtDHu_z1IX"
   },
   "source": [
    "## Visualize the model with TensorBoard"
   ]
  },
  {
   "cell_type": "markdown",
   "metadata": {
    "id": "NrJA5OSgnydC"
   },
   "source": [
    "To visualize the model with TensorBoard, make use of the built-in ZenML TensorBoard visualizer, that will automatically start a TensorBoard server in the background."
   ]
  },
  {
   "cell_type": "code",
   "execution_count": 14,
   "metadata": {
    "colab": {
     "base_uri": "https://localhost:8080/"
    },
    "id": "dRzZA406UVVz",
    "outputId": "f61e4408-4001-4cc7-ed7d-8472b1c4089f"
   },
   "outputs": [
    {
     "data": {
      "text/html": [
       "<pre style=\"white-space:pre;overflow-x:auto;line-height:normal;font-family:Menlo,'DejaVu Sans Mono',consolas,'Courier New',monospace\">You can run:\n",
       "<span style=\"color: #008000; text-decoration-color: #008000; font-style: italic\">    tensorboard --logdir </span>\n",
       "<span style=\"color: #008000; text-decoration-color: #008000; font-style: italic\">C:\\Users\\vsriniva\\AppData\\Roaming\\zenml\\local_stores\\</span><span style=\"color: #008000; text-decoration-color: #008000; font-style: italic\">680c2c4d-53aa-4b1e-98be-c3bf04e72fac</span><span style=\"color: #008000; text-decoration-color: #008000; font-style: italic\">\\trainer\\output</span>\n",
       "<span style=\"color: #808000; text-decoration-color: #808000\">...</span>to visualize the TensorBoard logs for your trained model.\n",
       "</pre>\n"
      ],
      "text/plain": [
       "You can run:\n",
       "\u001b[3;32m    tensorboard --logdir \u001b[0m\n",
       "\u001b[3;32mC:\\Users\\vsriniva\\AppData\\Roaming\\zenml\\local_stores\\\u001b[0m\u001b[3;32m680c2c4d-53aa-4b1e-98be-c3bf04e72fac\u001b[0m\u001b[3;32m\\trainer\\output\u001b[0m\n",
       "\u001b[33m...\u001b[0mto visualize the TensorBoard logs for your trained model.\n"
      ]
     },
     "metadata": {},
     "output_type": "display_data"
    }
   ],
   "source": [
    "from zenml.integrations.tensorflow.visualizers import (\n",
    "    visualize_tensorboard,\n",
    "    stop_tensorboard_server,\n",
    ")\n",
    "\n",
    "visualize_tensorboard(\n",
    "    pipeline_name=\"mnist_pipeline\",\n",
    "    step_name=\"trainer\",\n",
    ")"
   ]
  },
  {
   "cell_type": "markdown",
   "metadata": {},
   "source": [
    "To stop the TensorBoard server, you can use the `stop_tensorboard` utility function."
   ]
  },
  {
   "cell_type": "code",
   "execution_count": 15,
   "metadata": {},
   "outputs": [],
   "source": [
    "stop_tensorboard_server(\n",
    "    pipeline_name=\"mnist_pipeline\",\n",
    "    step_name=\"trainer\",\n",
    ")"
   ]
  },
  {
   "cell_type": "markdown",
   "metadata": {
    "id": "gotkJdTQz8j2"
   },
   "source": [
    "# Transitioning to Kubeflow Pipelines"
   ]
  },
  {
   "cell_type": "markdown",
   "metadata": {
    "id": "PMLU4cNW-Ei4"
   },
   "source": [
    "We got pretty good results on the digits model that we trained, but at some point we want to get out of this notebook local stack and go to a stack which looks more like production. Here is where the ZenML [Kubeflow Pipelines](https://github.com/kubeflow/pipelines) integration helps!"
   ]
  },
  {
   "cell_type": "markdown",
   "metadata": {},
   "source": [
    "## Pre-requisites"
   ]
  },
  {
   "cell_type": "markdown",
   "metadata": {},
   "source": [
    "In order to run this example, you need to have installed:\n",
    "\n",
    "* [Docker](https://docs.docker.com/get-docker/)\n",
    "* [K3D](https://k3d.io/v5.2.1/) \n",
    "* [Kubectl](https://kubernetes.io/docs/tasks/tools/)"
   ]
  },
  {
   "cell_type": "markdown",
   "metadata": {},
   "source": [
    "## Create a Kubeflow Stack"
   ]
  },
  {
   "cell_type": "markdown",
   "metadata": {},
   "source": [
    "![localstack-with-kubeflow.png](assets/localstack-with-kubeflow-orchestrator.png)"
   ]
  },
  {
   "cell_type": "code",
   "execution_count": 16,
   "metadata": {},
   "outputs": [
    {
     "name": "stdout",
     "output_type": "stream",
     "text": [
      "ZenML version: 0.12.0\n",
      "Install path: C:\\Users\\vsriniva\\Anaconda3\\Lib\\site-packages\\zenml\n",
      "Python version: 3.8.8\n",
      "Platform information: {'os': 'windows', 'windows_version_release': '10', 'windows_version': '10.0.19041', 'windows_version_service_pack': 'SP0', 'windows_version_os_type': 'Multiprocessor Free'}\n",
      "Environment: native\n",
      "Integrations: ['kubeflow', 'kubernetes', 'pytorch', 'scipy', 'seldon', 'sklearn', 'tensorflow']\n"
     ]
    }
   ],
   "source": [
    "!python -c \"import zenml.environment; print(zenml.environment.get_system_details())\""
   ]
  },
  {
   "cell_type": "markdown",
   "metadata": {},
   "source": [
    "### Register the container-registry"
   ]
  },
  {
   "cell_type": "code",
   "execution_count": 19,
   "metadata": {},
   "outputs": [
    {
     "name": "stdout",
     "output_type": "stream",
     "text": [
      "Running with active profile: 'default' (local)\n",
      "\u001b[1;35mRegistered stack component with type 'container_registry' and name 'local_reg'.\u001b[0m\n",
      "Successfully registered container registry `local_reg`.\n"
     ]
    }
   ],
   "source": [
    "!zenml container-registry register local_reg --flavor=default --uri=localhost:5000"
   ]
  },
  {
   "cell_type": "markdown",
   "metadata": {},
   "source": [
    "### Register the orchestrator"
   ]
  },
  {
   "cell_type": "code",
   "execution_count": 21,
   "metadata": {},
   "outputs": [
    {
     "name": "stdout",
     "output_type": "stream",
     "text": [
      "Running with active profile: 'default' (local)\n",
      "\u001b[1;35mRegistered stack component with type 'orchestrator' and name 'kubeflow_orchest'.\u001b[0m\n",
      "Successfully registered orchestrator `kubeflow_orchest`.\n"
     ]
    }
   ],
   "source": [
    "!zenml orchestrator register kubeflow_orchest --flavor=kubeflow"
   ]
  },
  {
   "cell_type": "markdown",
   "metadata": {},
   "source": [
    "Take the local registry and orchestrator and register it in a local_kubeflow_stack:"
   ]
  },
  {
   "cell_type": "code",
   "execution_count": 23,
   "metadata": {},
   "outputs": [
    {
     "name": "stdout",
     "output_type": "stream",
     "text": [
      "Running with active profile: 'default' (local)\n",
      "\u001b[1;35mRegistered stack with name 'local_kbflow_stack'.\u001b[0m\n",
      "Stack 'local_kbflow_stack' successfully registered!\n"
     ]
    }
   ],
   "source": [
    "!zenml stack register local_kbflow_stack -m default -a default -o kubeflow_orchest -c local_reg"
   ]
  },
  {
   "cell_type": "markdown",
   "metadata": {},
   "source": [
    "Set the local_kubeflow_stack as active:"
   ]
  },
  {
   "cell_type": "code",
   "execution_count": 24,
   "metadata": {},
   "outputs": [
    {
     "name": "stdout",
     "output_type": "stream",
     "text": [
      "Running with active profile: 'default' (local)\n",
      "Active stack set to: 'local_kbflow_stack'\n"
     ]
    }
   ],
   "source": [
    "!zenml stack set local_kbflow_stack"
   ]
  },
  {
   "cell_type": "markdown",
   "metadata": {},
   "source": [
    "## Lets spin the stack up"
   ]
  },
  {
   "cell_type": "code",
   "execution_count": 26,
   "metadata": {},
   "outputs": [
    {
     "name": "stdout",
     "output_type": "stream",
     "text": [
      "Client Version: version.Info{Major:\"1\", Minor:\"24\", GitVersion:\"v1.24.2\", GitCommit:\"f66044f4361b9f1f96f0053dd46cb7dce5e990a8\", GitTreeState:\"clean\", BuildDate:\"2022-06-15T14:22:29Z\", GoVersion:\"go1.18.3\", Compiler:\"gc\", Platform:\"windows/amd64\"}\n",
      "Kustomize Version: v4.5.4\n",
      "Server Version: version.Info{Major:\"1\", Minor:\"24\", GitVersion:\"v1.24.2\", GitCommit:\"f66044f4361b9f1f96f0053dd46cb7dce5e990a8\", GitTreeState:\"clean\", BuildDate:\"2022-06-15T14:15:38Z\", GoVersion:\"go1.18.3\", Compiler:\"gc\", Platform:\"linux/amd64\"}\n"
     ]
    },
    {
     "name": "stderr",
     "output_type": "stream",
     "text": [
      "WARNING: This version information is deprecated and will be replaced with the output from kubectl version --short.  Use --output=yaml|json to get the full version.\n"
     ]
    }
   ],
   "source": [
    "!kubectl version"
   ]
  },
  {
   "cell_type": "code",
   "execution_count": 27,
   "metadata": {},
   "outputs": [
    {
     "name": "stdout",
     "output_type": "stream",
     "text": [
      "k3d version v5.4.6\n",
      "k3s version v1.24.4-k3s1 (default)\n"
     ]
    }
   ],
   "source": [
    "!k3d version"
   ]
  },
  {
   "cell_type": "code",
   "execution_count": 28,
   "metadata": {},
   "outputs": [
    {
     "name": "stdout",
     "output_type": "stream",
     "text": [
      "Running with active profile: 'default' (local)\n",
      "Provisioning resources for active stack 'local_kbflow_stack'.\n",
      "\u001b[1;35mProvisioning resources for stack 'local_kbflow_stack'.\u001b[0m\n"
     ]
    },
    {
     "name": "stderr",
     "output_type": "stream",
     "text": [
      "\u001b[33mWARN\u001b[0m[0000] No node filter specified                     \n",
      "\u001b[31mFATA\u001b[0m[0000] Failed Cluster Configuration Validation:  failed to validate volume mount 'C:\\Users\\vsriniva\\AppData\\Roaming\\zenml:C:\\Users\\vsriniva\\AppData\\Roaming\\zenml': volume mount destination doesn't appear to be an absolute path: 'C' in 'C:\\Users\\vsriniva\\AppData\\Roaming\\zenml:C:\\Users\\vsriniva\\AppData\\Roaming\\zenml' \n",
      "Error: Unable to resume resources for KubeflowOrchestrator(type=orchestrator, flavor=kubeflow, name=kubeflow_orchest, uuid=a7eaf90b-7987-4514-8608-1813ec85e0b9, custom_docker_base_image_name=None, kubeflow_pipelines_ui_port=8080, kubeflow_hostname=None, kubernetes_context=k3d-zenml-kubeflow-a7eaf90b, synchronous=False, skip_local_validations=False, skip_cluster_provisioning=False, skip_ui_daemon_provisioning=False): No resources have been provisioned for this component.\n"
     ]
    },
    {
     "name": "stdout",
     "output_type": "stream",
     "text": [
      "Provisioning local Kubeflow Pipelines deployment...\n",
      "Creating local K3D cluster 'zenml-kubeflow-a7eaf90b'.\n",
      "Command '['k3d', 'cluster', 'create', 'zenml-kubeflow-a7eaf90b', '--image', 'rancher/k3s:v1.23.5-k3s1', '--registry-create', 'k3d-zenml-kubeflow-registry.localhost:5000', '--registry-config', 'C:\\\\Users\\\\vsriniva\\\\AppData\\\\Roaming\\\\zenml\\\\kubeflow\\\\a7eaf90b-7987-4514-8608-1813ec85e0b9\\\\k3d_registry.yaml', '--volume', 'C:\\\\Users\\\\vsriniva\\\\AppData\\\\Roaming\\\\zenml:C:\\\\Users\\\\vsriniva\\\\AppData\\\\Roaming\\\\zenml']' returned non-zero exit status 1.\n",
      "Unable to spin up local Kubeflow Pipelines deployment.\n",
      "If you wish to spin up this Kubeflow local orchestrator manually, please enter the following commands:\n",
      "\n",
      "> k3d cluster create zenml-kubeflow-a7eaf90b --image rancher/k3s:v1.23.5-k3s1 --registry-create k3d-zenml-kubeflow-registry.localhost:5000 --registry-config C:\\Users\\vsriniva\\AppData\\Roaming\\zenml\\kubeflow\\a7eaf90b-7987-4514-8608-1813ec85e0b9\\k3d_registry.yaml --volume C:\\Users\\vsriniva\\AppData\\Roaming\\zenml:C:\\Users\\vsriniva\\AppData\\Roaming\\zenml\n",
      "\n",
      "> kubectl --context k3d-zenml-kubeflow-a7eaf90b apply -k github.com/kubeflow/pipelines/manifests/kustomize/cluster-scoped-resources?ref=1.8.1&timeout=5m\n",
      "> kubectl --context k3d-zenml-kubeflow-a7eaf90b wait --timeout=60s --for condition=established crd/applications.app.k8s.io\n",
      "> kubectl --context k3d-zenml-kubeflow-a7eaf90b apply -k github.com/kubeflow/pipelines/manifests/kustomize/env/platform-agnostic-pns?ref=1.8.1&timeout=5m\n",
      "> kubectl --context k3d-zenml-kubeflow-a7eaf90b --namespace kubeflow port-forward svc/ml-pipeline-ui 8080:80\n",
      "\u001b[36mINFO\u001b[0m[0000] No clusters found                            \n",
      "Deleted local k3d cluster 'zenml-kubeflow-a7eaf90b'.\n",
      "Local kubeflow pipelines deployment deprovisioned.\n",
      "\u001b[1;35mProvisioned resources for KubeflowOrchestrator(type=orchestrator, flavor=kubeflow, name=kubeflow_orchest, uuid=a7eaf90b-7987-4514-8608-1813ec85e0b9, custom_docker_base_image_name=None, kubeflow_pipelines_ui_port=8080, kubeflow_hostname=None, kubernetes_context=k3d-zenml-kubeflow-a7eaf90b, synchronous=False, skip_local_validations=False, skip_cluster_provisioning=False, skip_ui_daemon_provisioning=False).\u001b[0m\n",
      "\u001b[1;35mResuming provisioned resources for stack local_kbflow_stack.\u001b[0m\n"
     ]
    }
   ],
   "source": [
    "!zenml stack up"
   ]
  },
  {
   "cell_type": "code",
   "execution_count": 29,
   "metadata": {},
   "outputs": [
    {
     "name": "stderr",
     "output_type": "stream",
     "text": [
      "\u001b[33mWARN\u001b[0m[0000] No node filter specified                     \n",
      "\u001b[31mFATA\u001b[0m[0000] Failed Cluster Configuration Validation:  failed to validate volume mount 'C:\\Users\\vsriniva\\AppData\\Roaming\\zenml:C:\\Users\\vsriniva\\AppData\\Roaming\\zenml': volume mount destination doesn't appear to be an absolute path: 'C' in 'C:\\Users\\vsriniva\\AppData\\Roaming\\zenml:C:\\Users\\vsriniva\\AppData\\Roaming\\zenml' \n"
     ]
    }
   ],
   "source": [
    "!k3d cluster create zenml-kubeflow-a7eaf90b --image rancher/k3s:v1.23.5-k3s1 --registry-create k3d-zenml-kubeflow-registry.localhost:5000 --registry-config C:\\Users\\vsriniva\\AppData\\Roaming\\zenml\\kubeflow\\a7eaf90b-7987-4514-8608-1813ec85e0b9\\k3d_registry.yaml --volume C:\\Users\\vsriniva\\AppData\\Roaming\\zenml:C:\\Users\\vsriniva\\AppData\\Roaming\\zenml"
   ]
  },
  {
   "cell_type": "markdown",
   "metadata": {},
   "source": [
    "## Write the pipeline to disk"
   ]
  },
  {
   "cell_type": "code",
   "execution_count": null,
   "metadata": {},
   "outputs": [],
   "source": [
    "%%writefile run-kubeflow.py\n",
    "#  Copyright (c) ZenML GmbH 2021. All Rights Reserved.\n",
    "#\n",
    "#  Licensed under the Apache License, Version 2.0 (the \"License\");\n",
    "#  you may not use this file except in compliance with the License.\n",
    "#  You may obtain a copy of the License at:\n",
    "#\n",
    "#       https://www.apache.org/licenses/LICENSE-2.0\n",
    "#\n",
    "#  Unless required by applicable law or agreed to in writing, software\n",
    "#  distributed under the License is distributed on an \"AS IS\" BASIS,\n",
    "#  WITHOUT WARRANTIES OR CONDITIONS OF ANY KIND, either express\n",
    "#  or implied. See the License for the specific language governing\n",
    "#  permissions and limitations under the License.\n",
    "\n",
    "import logging\n",
    "import os\n",
    "\n",
    "import numpy as np\n",
    "import tensorflow as tf\n",
    "\n",
    "from zenml.integrations.constants import TENSORFLOW\n",
    "from zenml.pipelines import pipeline\n",
    "from zenml.repository import Repository\n",
    "from zenml.steps import BaseStepConfig, Output, StepContext, step\n",
    "\n",
    "\n",
    "@step\n",
    "def importer() -> Output(\n",
    "    X_train=np.ndarray,\n",
    "    X_test=np.ndarray,\n",
    "    y_train=np.ndarray,\n",
    "    y_test=np.ndarray,\n",
    "):\n",
    "    \"\"\"Download the MNIST data store it as an artifact\"\"\"\n",
    "    (X_train, y_train), (\n",
    "        X_test,\n",
    "        y_test,\n",
    "    ) = tf.keras.datasets.mnist.load_data()\n",
    "    return X_train, X_test, y_train, y_test\n",
    "\n",
    "\n",
    "@step\n",
    "def normalizer(\n",
    "    X_train: np.ndarray, X_test: np.ndarray\n",
    ") -> Output(X_train_normed=np.ndarray, X_test_normed=np.ndarray):\n",
    "    \"\"\"Normalize digits dataset with mean and standard deviation.\"\"\"\n",
    "    X_train_normed = (X_train - np.mean(X_train)) / np.std(X_train)\n",
    "    X_test_normed = (X_test - np.mean(X_test)) / np.std(X_test)\n",
    "    return X_train_normed, X_test_normed\n",
    "\n",
    "\n",
    "class TrainerConfig(BaseStepConfig):\n",
    "    \"\"\"Trainer params\"\"\"\n",
    "\n",
    "    epochs: int = 1\n",
    "    lr: float = 0.001\n",
    "\n",
    "\n",
    "@step\n",
    "def trainer(\n",
    "    X_train: np.ndarray,\n",
    "    y_train: np.ndarray,\n",
    "    context: StepContext,\n",
    "    config: TrainerConfig,\n",
    ") -> tf.keras.Model:\n",
    "    \"\"\"Train a neural net from scratch to recognize MNIST digits return our\n",
    "    model or the learner\"\"\"\n",
    "    model = tf.keras.Sequential(\n",
    "        [\n",
    "            tf.keras.layers.Flatten(input_shape=(28, 28)),\n",
    "            tf.keras.layers.Dense(10, activation=\"relu\"),\n",
    "            tf.keras.layers.Dense(10),\n",
    "        ]\n",
    "    )\n",
    "\n",
    "    log_dir = os.path.join(context.get_output_artifact_uri(), \"logs\")\n",
    "    tensorboard_callback = tf.keras.callbacks.TensorBoard(\n",
    "        log_dir=log_dir, histogram_freq=1\n",
    "    )\n",
    "\n",
    "    model.compile(\n",
    "        optimizer=tf.keras.optimizers.Adam(config.lr),\n",
    "        loss=tf.keras.losses.SparseCategoricalCrossentropy(from_logits=True),\n",
    "        metrics=[\"accuracy\"],\n",
    "    )\n",
    "\n",
    "    model.fit(\n",
    "        X_train,\n",
    "        y_train,\n",
    "        epochs=config.epochs,\n",
    "        callbacks=[tensorboard_callback],\n",
    "    )\n",
    "\n",
    "    return model\n",
    "\n",
    "\n",
    "@step\n",
    "def evaluator(\n",
    "    X_test: np.ndarray,\n",
    "    y_test: np.ndarray,\n",
    "    model: tf.keras.Model,\n",
    ") -> float:\n",
    "    \"\"\"Calculate the accuracy on the test set\"\"\"\n",
    "\n",
    "    _, test_acc = model.evaluate(X_test, y_test, verbose=2)\n",
    "    logging.info(f\"Test accuracy: {test_acc}\")\n",
    "    return test_acc\n",
    "\n",
    "\n",
    "@pipeline(required_integrations=[TENSORFLOW], enable_cache=False)\n",
    "def mnist_pipeline(\n",
    "    importer,\n",
    "    normalizer,\n",
    "    trainer,\n",
    "    evaluator,\n",
    "):\n",
    "    # Link all the steps together\n",
    "    X_train, X_test, y_train, y_test = importer()\n",
    "    X_trained_normed, X_test_normed = normalizer(X_train=X_train, X_test=X_test)\n",
    "    model = trainer(X_train=X_trained_normed, y_train=y_train)\n",
    "    evaluator(X_test=X_test_normed, y_test=y_test, model=model)\n",
    "\n",
    "\n",
    "if __name__ == \"__main__\":\n",
    "    # Run the pipeline\n",
    "    pipeline_instance = mnist_pipeline(\n",
    "        importer=importer(),\n",
    "        normalizer=normalizer(),\n",
    "        trainer=trainer(),\n",
    "        evaluator=evaluator(),\n",
    "    )\n",
    "    pipeline_instance.run()\n"
   ]
  },
  {
   "cell_type": "code",
   "execution_count": null,
   "metadata": {},
   "outputs": [],
   "source": [
    "# Initialize a new pipeline\n",
    "!python run-kubeflow.py"
   ]
  },
  {
   "cell_type": "markdown",
   "metadata": {
    "id": "-uKNmljpIYRh"
   },
   "source": [
    "# Post execution workflow"
   ]
  },
  {
   "cell_type": "code",
   "execution_count": null,
   "metadata": {
    "id": "R5yPNQ1fIYRh"
   },
   "outputs": [],
   "source": [
    "from zenml.repository import Repository"
   ]
  },
  {
   "cell_type": "markdown",
   "metadata": {
    "id": "lhG-rEDZIYRi"
   },
   "source": [
    "## Get repo"
   ]
  },
  {
   "cell_type": "code",
   "execution_count": null,
   "metadata": {
    "id": "_cZqhydiIYRj"
   },
   "outputs": [],
   "source": [
    "repo = Repository()"
   ]
  },
  {
   "cell_type": "markdown",
   "metadata": {
    "id": "T-rao3-oIYRj"
   },
   "source": [
    "## Pipelines "
   ]
  },
  {
   "cell_type": "code",
   "execution_count": null,
   "metadata": {
    "id": "ZxMk-vsmIYRk"
   },
   "outputs": [],
   "source": [
    "pipelines = repo.get_pipelines()"
   ]
  },
  {
   "cell_type": "markdown",
   "metadata": {
    "id": "oFd--JgZIYRk"
   },
   "source": [
    "## Retrieve the pipeline"
   ]
  },
  {
   "cell_type": "code",
   "execution_count": null,
   "metadata": {
    "id": "2BSbKed-IYRk"
   },
   "outputs": [],
   "source": [
    "mnist_pipeline = pipelines[0]"
   ]
  },
  {
   "cell_type": "markdown",
   "metadata": {
    "id": "xpNKuyChIYRl"
   },
   "source": [
    "## Get the first run"
   ]
  },
  {
   "cell_type": "code",
   "execution_count": null,
   "metadata": {
    "id": "jI57bWbHIYRl"
   },
   "outputs": [],
   "source": [
    "runs = mnist_pipeline.runs  # chronologically ordered\n",
    "mnist_run = runs[0]"
   ]
  },
  {
   "cell_type": "markdown",
   "metadata": {
    "id": "pIPmpQCrIYRl"
   },
   "source": [
    "## Get the second run"
   ]
  },
  {
   "cell_type": "code",
   "execution_count": null,
   "metadata": {
    "id": "1SGaTPduIYRl"
   },
   "outputs": [],
   "source": [
    "kubeflow_mnist_run = runs[1]"
   ]
  },
  {
   "cell_type": "markdown",
   "metadata": {
    "id": "HDR1JNHtIYRm"
   },
   "source": [
    "## Get the steps (note the first step name is different)"
   ]
  },
  {
   "cell_type": "code",
   "execution_count": null,
   "metadata": {
    "colab": {
     "base_uri": "https://localhost:8080/"
    },
    "id": "Vct_wqq1IYRm",
    "outputId": "7800431d-813b-4721-f61d-27f4012f9d2d"
   },
   "outputs": [],
   "source": [
    "mnist_run.steps"
   ]
  },
  {
   "cell_type": "code",
   "execution_count": null,
   "metadata": {
    "colab": {
     "base_uri": "https://localhost:8080/"
    },
    "id": "lnQkTAv6IYRm",
    "outputId": "8fedfaf1-b5c9-4218-809c-244b8f6ebc2c"
   },
   "outputs": [],
   "source": [
    "kubeflow_mnist_run.steps"
   ]
  },
  {
   "cell_type": "markdown",
   "metadata": {
    "id": "5m6d6VPDIYRn"
   },
   "source": [
    "## Check the results of the evaluator and compare"
   ]
  },
  {
   "cell_type": "code",
   "execution_count": null,
   "metadata": {
    "id": "sF7YM4_iIYRn"
   },
   "outputs": [],
   "source": [
    "mnist_eval_step = mnist_run.get_step(step='evaluator')\n",
    "kubeflow_mnist_eval_step = kubeflow_mnist_run.get_step(step='evaluator')"
   ]
  },
  {
   "cell_type": "code",
   "execution_count": null,
   "metadata": {
    "colab": {
     "base_uri": "https://localhost:8080/"
    },
    "id": "V5fvkLoZIYRn",
    "outputId": "a8d0ad4d-bbd0-4320-a282-870120ac3ddf",
    "scrolled": true
   },
   "outputs": [],
   "source": [
    "# One output is simply called `output`, multiple is a dict called `outputs`.\n",
    "mnist_eval_step.output.read()"
   ]
  },
  {
   "cell_type": "code",
   "execution_count": null,
   "metadata": {
    "colab": {
     "base_uri": "https://localhost:8080/"
    },
    "id": "wMBKfBSeIYRo",
    "outputId": "4387f938-bb21-492e-9c90-79a8b4329101"
   },
   "outputs": [],
   "source": [
    "kubeflow_mnist_eval_step.output.read()"
   ]
  },
  {
   "cell_type": "markdown",
   "metadata": {
    "id": "0Tan15BgIYRo"
   },
   "source": [
    "# Congratulations!"
   ]
  },
  {
   "cell_type": "markdown",
   "metadata": {
    "id": "uOJtVVaFzlUO"
   },
   "source": [
    "… and that's it!. If you came here without a hiccup, you must have successly installed ZenML, set up a ZenML repo, configured a training pipeline, executed it and evaluated the results. You have also deployed said pipeline to a production MLOps stack from right within your notebook! Hurray!\n",
    "\n",
    "However, if you had a hiccup or you have some suggestions/questions regarding our framework, you can always check our [docs](https://docs.zenml.io/) or our [Github](https://github.com/zenml-io/zenml) or even better join us on our [Slack channel](https://zenml.io/slack-invite).\n",
    "\n",
    "Cheers!"
   ]
  },
  {
   "cell_type": "markdown",
   "metadata": {
    "id": "22gkBKSntlF8"
   },
   "source": [
    "For more detailed information on all the components and steps that went into this short example, please continue reading [our more detailed documentation pages](https://docs.zenml.io/)."
   ]
  }
 ],
 "metadata": {
  "colab": {
   "collapsed_sections": [],
   "include_colab_link": true,
   "name": "ZenML Quickstart.ipynb",
   "provenance": []
  },
  "kernelspec": {
   "display_name": "Python 3",
   "language": "python",
   "name": "python3"
  },
  "language_info": {
   "codemirror_mode": {
    "name": "ipython",
    "version": 3
   },
   "file_extension": ".py",
   "mimetype": "text/x-python",
   "name": "python",
   "nbconvert_exporter": "python",
   "pygments_lexer": "ipython3",
   "version": "3.8.8"
  }
 },
 "nbformat": 4,
 "nbformat_minor": 1
}
